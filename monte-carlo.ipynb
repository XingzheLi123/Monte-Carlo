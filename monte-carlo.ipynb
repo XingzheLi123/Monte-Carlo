{
 "cells": [
  {
   "cell_type": "code",
   "execution_count": 7,
   "metadata": {},
   "outputs": [],
   "source": [
    "import pandas as pd\n",
    "import numpy as np"
   ]
  },
  {
   "cell_type": "code",
   "execution_count": 8,
   "metadata": {},
   "outputs": [],
   "source": [
    "df = pd.read_csv('data.csv')"
   ]
  },
  {
   "cell_type": "code",
   "execution_count": 9,
   "metadata": {},
   "outputs": [
    {
     "data": {
      "text/html": [
       "<div>\n",
       "<style scoped>\n",
       "    .dataframe tbody tr th:only-of-type {\n",
       "        vertical-align: middle;\n",
       "    }\n",
       "\n",
       "    .dataframe tbody tr th {\n",
       "        vertical-align: top;\n",
       "    }\n",
       "\n",
       "    .dataframe thead th {\n",
       "        text-align: right;\n",
       "    }\n",
       "</style>\n",
       "<table border=\"1\" class=\"dataframe\">\n",
       "  <thead>\n",
       "    <tr style=\"text-align: right;\">\n",
       "      <th></th>\n",
       "      <th>Date</th>\n",
       "      <th>Open</th>\n",
       "      <th>High</th>\n",
       "      <th>Low</th>\n",
       "      <th>Close</th>\n",
       "      <th>Adj Close</th>\n",
       "      <th>Volume</th>\n",
       "    </tr>\n",
       "  </thead>\n",
       "  <tbody>\n",
       "    <tr>\n",
       "      <th>0</th>\n",
       "      <td>2017-11-09</td>\n",
       "      <td>308.644989</td>\n",
       "      <td>329.451996</td>\n",
       "      <td>307.056000</td>\n",
       "      <td>320.884003</td>\n",
       "      <td>320.884003</td>\n",
       "      <td>893249984</td>\n",
       "    </tr>\n",
       "    <tr>\n",
       "      <th>1</th>\n",
       "      <td>2017-11-10</td>\n",
       "      <td>320.670990</td>\n",
       "      <td>324.717987</td>\n",
       "      <td>294.541992</td>\n",
       "      <td>299.252991</td>\n",
       "      <td>299.252991</td>\n",
       "      <td>885985984</td>\n",
       "    </tr>\n",
       "    <tr>\n",
       "      <th>2</th>\n",
       "      <td>2017-11-11</td>\n",
       "      <td>298.585999</td>\n",
       "      <td>319.453003</td>\n",
       "      <td>298.191986</td>\n",
       "      <td>314.681000</td>\n",
       "      <td>314.681000</td>\n",
       "      <td>842300992</td>\n",
       "    </tr>\n",
       "    <tr>\n",
       "      <th>3</th>\n",
       "      <td>2017-11-12</td>\n",
       "      <td>314.690002</td>\n",
       "      <td>319.153015</td>\n",
       "      <td>298.513000</td>\n",
       "      <td>307.907990</td>\n",
       "      <td>307.907990</td>\n",
       "      <td>1613479936</td>\n",
       "    </tr>\n",
       "    <tr>\n",
       "      <th>4</th>\n",
       "      <td>2017-11-13</td>\n",
       "      <td>307.024994</td>\n",
       "      <td>328.415009</td>\n",
       "      <td>307.024994</td>\n",
       "      <td>316.716003</td>\n",
       "      <td>316.716003</td>\n",
       "      <td>1041889984</td>\n",
       "    </tr>\n",
       "    <tr>\n",
       "      <th>...</th>\n",
       "      <td>...</td>\n",
       "      <td>...</td>\n",
       "      <td>...</td>\n",
       "      <td>...</td>\n",
       "      <td>...</td>\n",
       "      <td>...</td>\n",
       "      <td>...</td>\n",
       "    </tr>\n",
       "    <tr>\n",
       "      <th>1790</th>\n",
       "      <td>2022-10-04</td>\n",
       "      <td>1323.278320</td>\n",
       "      <td>1364.970947</td>\n",
       "      <td>1320.076660</td>\n",
       "      <td>1362.126587</td>\n",
       "      <td>1362.126587</td>\n",
       "      <td>10139774963</td>\n",
       "    </tr>\n",
       "    <tr>\n",
       "      <th>1791</th>\n",
       "      <td>2022-10-05</td>\n",
       "      <td>1361.972900</td>\n",
       "      <td>1362.451782</td>\n",
       "      <td>1320.855103</td>\n",
       "      <td>1352.837158</td>\n",
       "      <td>1352.837158</td>\n",
       "      <td>9774451820</td>\n",
       "    </tr>\n",
       "    <tr>\n",
       "      <th>1792</th>\n",
       "      <td>2022-10-06</td>\n",
       "      <td>1352.806641</td>\n",
       "      <td>1380.404907</td>\n",
       "      <td>1349.449951</td>\n",
       "      <td>1351.709473</td>\n",
       "      <td>1351.709473</td>\n",
       "      <td>12033514861</td>\n",
       "    </tr>\n",
       "    <tr>\n",
       "      <th>1793</th>\n",
       "      <td>2022-10-07</td>\n",
       "      <td>1351.836426</td>\n",
       "      <td>1359.328125</td>\n",
       "      <td>1321.746094</td>\n",
       "      <td>1332.516968</td>\n",
       "      <td>1332.516968</td>\n",
       "      <td>10061619355</td>\n",
       "    </tr>\n",
       "    <tr>\n",
       "      <th>1794</th>\n",
       "      <td>2022-10-08</td>\n",
       "      <td>1331.856201</td>\n",
       "      <td>1335.353760</td>\n",
       "      <td>1327.144531</td>\n",
       "      <td>1328.188721</td>\n",
       "      <td>1328.188721</td>\n",
       "      <td>9097213952</td>\n",
       "    </tr>\n",
       "  </tbody>\n",
       "</table>\n",
       "<p>1795 rows × 7 columns</p>\n",
       "</div>"
      ],
      "text/plain": [
       "            Date         Open         High          Low        Close  \\\n",
       "0     2017-11-09   308.644989   329.451996   307.056000   320.884003   \n",
       "1     2017-11-10   320.670990   324.717987   294.541992   299.252991   \n",
       "2     2017-11-11   298.585999   319.453003   298.191986   314.681000   \n",
       "3     2017-11-12   314.690002   319.153015   298.513000   307.907990   \n",
       "4     2017-11-13   307.024994   328.415009   307.024994   316.716003   \n",
       "...          ...          ...          ...          ...          ...   \n",
       "1790  2022-10-04  1323.278320  1364.970947  1320.076660  1362.126587   \n",
       "1791  2022-10-05  1361.972900  1362.451782  1320.855103  1352.837158   \n",
       "1792  2022-10-06  1352.806641  1380.404907  1349.449951  1351.709473   \n",
       "1793  2022-10-07  1351.836426  1359.328125  1321.746094  1332.516968   \n",
       "1794  2022-10-08  1331.856201  1335.353760  1327.144531  1328.188721   \n",
       "\n",
       "        Adj Close       Volume  \n",
       "0      320.884003    893249984  \n",
       "1      299.252991    885985984  \n",
       "2      314.681000    842300992  \n",
       "3      307.907990   1613479936  \n",
       "4      316.716003   1041889984  \n",
       "...           ...          ...  \n",
       "1790  1362.126587  10139774963  \n",
       "1791  1352.837158   9774451820  \n",
       "1792  1351.709473  12033514861  \n",
       "1793  1332.516968  10061619355  \n",
       "1794  1328.188721   9097213952  \n",
       "\n",
       "[1795 rows x 7 columns]"
      ]
     },
     "execution_count": 9,
     "metadata": {},
     "output_type": "execute_result"
    }
   ],
   "source": [
    "df"
   ]
  },
  {
   "cell_type": "code",
   "execution_count": 10,
   "metadata": {},
   "outputs": [],
   "source": [
    "df = df[['Date', 'Open']]"
   ]
  },
  {
   "cell_type": "code",
   "execution_count": 11,
   "metadata": {},
   "outputs": [],
   "source": [
    "open = list(df['Open'])"
   ]
  },
  {
   "cell_type": "code",
   "execution_count": 26,
   "metadata": {},
   "outputs": [],
   "source": [
    "import random"
   ]
  },
  {
   "cell_type": "code",
   "execution_count": 27,
   "metadata": {},
   "outputs": [],
   "source": [
    "def Random(n):\n",
    "    return [random.randrange(n) for x in range(n)]\n"
   ]
  },
  {
   "cell_type": "code",
   "execution_count": 31,
   "metadata": {},
   "outputs": [
    {
     "data": {
      "text/plain": [
       "[3, 3, 1, 3, 1]"
      ]
     },
     "execution_count": 31,
     "metadata": {},
     "output_type": "execute_result"
    }
   ],
   "source": [
    "Random(5)"
   ]
  },
  {
   "cell_type": "code",
   "execution_count": 93,
   "metadata": {},
   "outputs": [],
   "source": [
    "import matplotlib.pyplot as plt\n",
    "import statistics"
   ]
  },
  {
   "cell_type": "code",
   "execution_count": 104,
   "metadata": {},
   "outputs": [],
   "source": [
    "def montecarlo(data, times = 50, day = 100):\n",
    "    projects = []\n",
    "    color = iter(plt.cm.rainbow(np.linspace(0, 1, times)))\n",
    "    for i in range(times):\n",
    "       \n",
    "        rate = [open[x+1]/open[x] for x in range(len(open)-2)]\n",
    "        rand = Random(len(rate))\n",
    "        randrate = [rate[x] for x in rand]\n",
    "        #print(rate)\n",
    "        project = [data[-1]]\n",
    "        for x in range(len(rate) - 1):\n",
    "            project.append(project[x]*randrate[x+1])\n",
    "        #print(project)\n",
    "        projects.append(project)\n",
    "        c = next(color)\n",
    "        tradingday = range(len(rate))\n",
    "        plt.plot(tradingday, project, c)\n",
    "    plt.xlabel('Trading Day')\n",
    "    plt.ylabel('USD')\n",
    "    plt.title('Value of Asset')\n",
    "    plt.show()\n",
    "    values = [x[day] for x in projects]\n",
    "    n, bins, patches = plt.hist(values, 20, density=True, facecolor='g', alpha=0.75)\n",
    "    plt.xlabel(\"USD\")\n",
    "    plt.ylabel('Probability')\n",
    "    plt.show()\n",
    "    \n",
    "    return values\n"
   ]
  },
  {
   "cell_type": "code",
   "execution_count": 105,
   "metadata": {},
   "outputs": [
    {
     "data": {
      "image/png": "[encoded data removed]",
      "text/plain": [
       "<Figure size 432x288 with 1 Axes>"
      ]
     },
     "metadata": {
      "needs_background": "light"
     },
     "output_type": "display_data"
    },
    {
     "data": {
      "image/png": "[encoded data removed]",
      "text/plain": [
       "<Figure size 432x288 with 1 Axes>"
      ]
     },
     "metadata": {
      "needs_background": "light"
     },
     "output_type": "display_data"
    }
   ],
   "source": [
    "values = montecarlo(open, 1000)"
   ]
  },
  {
   "cell_type": "code",
   "execution_count": 103,
   "metadata": {},
   "outputs": [
    {
     "name": "stdout",
     "output_type": "stream",
     "text": [
      "1641.9321564990705\n",
      "946.2579951627907\n",
      "[ 230.59107827 1005.41235792 1436.78761929 2033.13768664 7826.47526885]\n"
     ]
    }
   ],
   "source": [
    "print(statistics.mean(values))\n",
    "print(statistics.stdev(values))\n",
    "print(np.quantile(values,[0,0.25,0.5,0.75,1]))\n"
   ]
  }
 ],
 "metadata": {
  "kernelspec": {
   "display_name": "Python 3.9.7 ('base')",
   "language": "python",
   "name": "python3"
  },
  "language_info": {
   "codemirror_mode": {
    "name": "ipython",
    "version": 3
   },
   "file_extension": ".py",
   "mimetype": "text/x-python",
   "name": "python",
   "nbconvert_exporter": "python",
   "pygments_lexer": "ipython3",
   "version": "3.9.7"
  },
  "orig_nbformat": 4,
  "vscode": {
   "interpreter": {
    "hash": "df99d15d342860eeac14616557ba1301f21b8dfc21680a2dd9943e47598c1434"
   }
  }
 },
 "nbformat": 4,
 "nbformat_minor": 2
}
